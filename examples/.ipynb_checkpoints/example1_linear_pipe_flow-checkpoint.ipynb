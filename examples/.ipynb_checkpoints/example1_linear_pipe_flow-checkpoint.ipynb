{
 "cells": [
  {
   "cell_type": "markdown",
   "id": "ddeca16e-6677-4b25-afcd-c95ced03c550",
   "metadata": {},
   "source": [
    "# Examples\n",
    "\n",
    "## Example 1\n",
    "\n",
    "Calculation of heights and flow rates in a pipe network. Extracted from:\n",
    "\n",
    "- Brebbia, C. A., & Ferrante, A. J. (2013). Computational hydraulics. Butterworth-Heinemann.\n",
    "- Example 4.2\n",
    "\n",
    "The pipe system is shown in the figure. Each element (line) is assigned a number, as well as each node (junction point). The elements represent pipes, with their respective diameter and length. Some nodes have a known height $H$ and others have a demand for flow rate, which corresponds to an inlet or outlet of fluid.\n",
    "\n",
    "<img src = \"images/example4_2.svg\" width = \"350\"> \n",
    "\n",
    "- $L_0 = 1000 \\, m$, $D_0 = 0.4 \\, m$\n",
    "- $L_1 = 1000 \\, m$, $D_1 = 0.2 \\, m$\n",
    "- $L_2 = 2000 \\, m$, $D_2 = 0.283 \\, m$\n",
    "- $L_3 = 2000 \\, m$, $D_3 = 0.283 \\, m$\n",
    "- $L_4 = 2000 \\, m$, $D_4 = 0.573 \\, m$\n",
    "- $C_2 = 10 \\, m^3 s^{-1}$\n",
    "- $C_1 = 10 \\, m^3 s^{-1}$\n",
    "- $H_3 = 10 \\, m$\n",
    "\n",
    "The matrix of each element is obtained through the relationship of laminar flow between flow rate and heights:\n",
    "\n",
    "$$\\begin{bmatrix}Q_{k}^{i}\\\\Q_{j}^{i}\\end{bmatrix}\n",
    "=k^{i}\\begin{bmatrix}1 & -1 \\\\-1 & 1\\end{bmatrix}\n",
    "\\begin{bmatrix}H_{k}^{i}\\\\H_{j}^{i}\\end{bmatrix}$$\n",
    "\n",
    "where:\n",
    "\n",
    "$$ k^i = \\frac{\\pi \\rho g D_i^4}{128 L_i \\mu} = \\frac{\\pi  g D_i^4}{128 L_i \\nu}$$"
   ]
  },
  {
   "cell_type": "markdown",
   "id": "9fa8f9a1-b92e-474c-83d1-c2ccf3a746d4",
   "metadata": {},
   "source": [
    "First, the numpy library and the NetSimulation class are imported:"
   ]
  },
  {
   "cell_type": "code",
   "execution_count": 1,
   "id": "19cd7d8b-3def-4697-93d8-48c3b2dc12af",
   "metadata": {
    "tags": []
   },
   "outputs": [],
   "source": [
    "import numpy as np\n",
    "import netsimulation as ns"
   ]
  },
  {
   "cell_type": "markdown",
   "id": "d43e1e41-79ab-4662-9910-a019d122f3f4",
   "metadata": {},
   "source": [
    "An object of the NetSimulation class named mynet is created:"
   ]
  },
  {
   "cell_type": "code",
   "execution_count": 2,
   "id": "e333a314-e816-41ea-8689-b260af95fa7c",
   "metadata": {
    "tags": []
   },
   "outputs": [],
   "source": [
    "mynet = ns.NetSimulation()"
   ]
  },
  {
   "cell_type": "markdown",
   "id": "f4ddf990-433f-4c0d-8fe4-be154c4bf60b",
   "metadata": {},
   "source": [
    "Once the object is defined, the attributes of the object must be set to implement the problem. Starting with setting the number of nodes and elements:"
   ]
  },
  {
   "cell_type": "code",
   "execution_count": 3,
   "id": "6e6ee34d-b27f-44ea-8bfa-ff8b22133157",
   "metadata": {
    "tags": []
   },
   "outputs": [],
   "source": [
    "mynet.n_elements = 5\n",
    "mynet.n_nodes = 4"
   ]
  },
  {
   "cell_type": "markdown",
   "id": "b089b23b-1fca-4532-a8f9-d859dacb81db",
   "metadata": {},
   "source": [
    "The connectivity matrix is established using a numpy array. Each row corresponds to an element, the first and second columns contain the start and end nodes of the element:"
   ]
  },
  {
   "cell_type": "code",
   "execution_count": 4,
   "id": "538c26f0-396b-4ae5-a273-52ed0012ba58",
   "metadata": {
    "tags": []
   },
   "outputs": [],
   "source": [
    "mynet.connectivity = np.array([[0, 1], \n",
    "                             [0, 2],\n",
    "                             [1, 2],\n",
    "                             [1, 3],\n",
    "                             [2, 3]])"
   ]
  },
  {
   "cell_type": "markdown",
   "id": "1578d717-1b33-458b-8a06-51d3a5883c13",
   "metadata": {},
   "source": [
    "The boundary conditions for flow rates $\\mathbf{b}$ and heights $\\mathbf{x}$ are established using two vectors. One vector contains the nodes where the values are known, and another vector contains the respective values for each node:"
   ]
  },
  {
   "cell_type": "code",
   "execution_count": 5,
   "id": "7fd91002-3593-48c9-8eeb-de8b2db1cca2",
   "metadata": {
    "tags": []
   },
   "outputs": [],
   "source": [
    "mynet.nodes_x_known = np.array([0, 3])\n",
    "mynet.values_x_known = np.array([20, 10])\n",
    "mynet.nodes_b_known = np.array([1, 2])\n",
    "mynet.values_b_known = np.array([10, 10])"
   ]
  },
  {
   "cell_type": "markdown",
   "id": "ba9872e4-2751-4001-9abc-f05289c8de03",
   "metadata": {},
   "source": [
    "The values of $k_i$ are stored in a vector $\\mathbf{k}$ corresponding to each element. Below is the example, where the vector $\\mathbf{k}$ is passed to the attribute of the class `k_element`:"
   ]
  },
  {
   "cell_type": "code",
   "execution_count": 6,
   "id": "e2a5be3f-2009-433f-a635-a75acd160532",
   "metadata": {
    "tags": []
   },
   "outputs": [],
   "source": [
    "mynet.length = np.array([1000, 1000, 2000, 2000, 2000])\n",
    "diam = np.array([0.4, 0.2, 0.283, 0.283, 0.573])\n",
    "nu = 1e-6\n",
    "g = 9.81\n",
    "mynet.k_element = np.pi * g * diam[:]**4 / (128. * nu * mynet.length[:])"
   ]
  },
  {
   "cell_type": "markdown",
   "id": "bca0b4d8-e028-42de-8daa-ae9261297b2e",
   "metadata": {},
   "source": [
    "The problem is now defined. You can select the solver using the `solver` attribute. Afterwards, use the `matrix_assembly` method of the class to assemble the matrix $\\mathbf{A}$, then use the `solve` method to solve and calculate the unknowns."
   ]
  },
  {
   "cell_type": "code",
   "execution_count": 7,
   "id": "aca00c22-9997-4b69-b938-c9b52fec6a65",
   "metadata": {
    "tags": []
   },
   "outputs": [],
   "source": [
    "mynet.solver = \"cg\"\n",
    "mynet.matrix_assembly()\n",
    "mynet.solve()"
   ]
  },
  {
   "cell_type": "markdown",
   "id": "3bd5cb2f-5151-45b3-a6d4-99c7732a06aa",
   "metadata": {},
   "source": [
    "Access the results using the attributes of the class:\n",
    "\n",
    "- `x` corresponds to the vector of unknowns $\\mathbf{x}$, for this problem it corresponds to the heights.\n",
    "- `b` is the vector of constants $\\mathbf{b}$, in this case it corresponds to the flow rates.\n",
    "- `dx` is the difference in heights $\\Delta \\mathbf{x}^i$ of the element.\n",
    "- `Q` corresponds to the flow rate of the element, calculated as $\\mathbf{Q}^i = \\mathbf{k}^i \\Delta \\mathbf{x}^i$"
   ]
  },
  {
   "cell_type": "code",
   "execution_count": 8,
   "id": "7fabe1f9-810e-44ca-9660-84de6098ada9",
   "metadata": {
    "tags": []
   },
   "outputs": [
    {
     "name": "stdout",
     "output_type": "stream",
     "text": [
      "[20.         19.44361741 11.49589496 10.        ]\n",
      "[  6.70553639  10.          10.         -26.70553639]\n",
      "[ 3.42943368  3.27610271  6.13715863  7.29227505 19.41326134]\n",
      "[0.55638259 8.50410504 7.94772245 9.44361741 1.49589496]\n"
     ]
    }
   ],
   "source": [
    "print(mynet.x)\n",
    "print(mynet.b)\n",
    "print(mynet.Q)\n",
    "print(mynet.dx)"
   ]
  }
 ],
 "metadata": {
  "kernelspec": {
   "display_name": "Python 3 (ipykernel)",
   "language": "python",
   "name": "python3"
  },
  "language_info": {
   "codemirror_mode": {
    "name": "ipython",
    "version": 3
   },
   "file_extension": ".py",
   "mimetype": "text/x-python",
   "name": "python",
   "nbconvert_exporter": "python",
   "pygments_lexer": "ipython3",
   "version": "3.11.5"
  }
 },
 "nbformat": 4,
 "nbformat_minor": 5
}
