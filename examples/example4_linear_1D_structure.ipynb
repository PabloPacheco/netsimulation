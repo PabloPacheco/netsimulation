{
 "cells": [
  {
   "cell_type": "markdown",
   "id": "ea9d4278-6fad-46d2-8944-70165b2d3b66",
   "metadata": {},
   "source": [
    "# Examples\n",
    "\n",
    "## Example 4\n",
    "\n",
    "Structural calculation problem, linear elastic material. Extracted from:\n",
    "\n",
    "- Moaveni, S. (2011). Finite element analysis theory and application with ANSYS, 3/e. Pearson Education India.\n",
    "- Example 1.1.\n",
    "\n",
    "<img src=\"images/barra1.svg\" width=\"400\">\n",
    "\n",
    "- $P = 1000 \\, lb$\n",
    "- $E = 10.4 \\times 10^6 \\, lb/in^2$\n",
    "- $l = 10 \\, in$ for all bars\n",
    "- $u_0 = 0$\n",
    "- Areas:\n",
    "    - $A_0 = 0.234375 \\, in^2$ \n",
    "    - $A_1 = 0.203125 \\, in^2$\n",
    "    - $A_2 = 0.171875 \\, in^2$\n",
    "    - $A_3 = 0.140625 \\, in^2$\n",
    "\n",
    "The figure shows a system of bars connected with different area sections. The average stress in each bar is calculated:\n",
    "\n",
    "$$ \\sigma = \\frac{F}{A} $$\n",
    "\n",
    "The unit strain of each element is calculated as the change in length divided by the original length:\n",
    "\n",
    "$$ \\epsilon = \\frac{\\Delta l}{l} $$\n",
    "\n",
    "Linear elastic materials satisfy the following:\n",
    "\n",
    "$$ \\sigma = E \\epsilon$$\n",
    "\n",
    "where $E$ is the modulus of elasticity of the material. Combining the above equations:\n",
    "\n",
    "$$ F = \\left(\\frac{AE}{l} \\right) \\Delta l  = k \\Delta l, \\quad k = \\frac{AE}{l} $$\n",
    "\n",
    "The matrix of a bar-type element is defined:\n",
    "\n",
    "\n",
    "$$\\begin{bmatrix}f_{k}^{i}\\\\f_{j}^{i}\\end{bmatrix}\n",
    "=k^{i}\\begin{bmatrix}1 & -1 \\\\-1 & 1\\end{bmatrix}\n",
    "\\begin{bmatrix}u_{k}^{i}\\\\u_{j}^{i}\\end{bmatrix}$$\n",
    "\n"
   ]
  },
  {
   "cell_type": "code",
   "execution_count": null,
   "id": "0f4b63e2-51b7-4c94-afcf-7480922dcdb8",
   "metadata": {},
   "outputs": [],
   "source": [
    "import numpy as np\n",
    "import netsimulation as ns"
   ]
  },
  {
   "cell_type": "code",
   "execution_count": 16,
   "id": "8775b4ba-c9a5-41c2-9a8a-b1d4784db60b",
   "metadata": {
    "tags": []
   },
   "outputs": [],
   "source": [
    "mynet = ns.NetSimulation()\n",
    "mynet.n_elements = 4\n",
    "mynet.n_nodes = 5\n",
    "\n",
    "mynet.connectivity = np.array([[0, 1], \n",
    "                             [1, 2],\n",
    "                             [2, 3],\n",
    "                             [3, 4]])\n",
    "\n",
    "\n",
    "mynet.nodes_x_known = np.array([0])\n",
    "mynet.values_x_known = np.array([0.])\n",
    "mynet.nodes_b_known = np.array([4])\n",
    "mynet.values_b_known = np.array([1000.])\n",
    "\n",
    "A = np.array([0.234375, 0.203125, 0.171875, 0.140625])\n",
    "l = np.ones(mynet.n_elements) * 2.5\n",
    "E = np.ones(mynet.n_elements) * 10.4e6\n",
    "\n",
    "mynet.k_element = A[:] * E[:] / l[:]\n",
    "\n",
    "mynet.matrix_assembly()\n",
    "mynet.solve()"
   ]
  },
  {
   "cell_type": "code",
   "execution_count": 17,
   "id": "680e4e62-6c9e-4af5-95ca-a3f3332e42bc",
   "metadata": {
    "tags": []
   },
   "outputs": [
    {
     "name": "stdout",
     "output_type": "stream",
     "text": [
      "[0.         0.00102564 0.00220907 0.00360767 0.00531708]\n",
      "[-1000.     0.     0.     0.  1000.]\n"
     ]
    }
   ],
   "source": [
    "print(mynet.x)\n",
    "print(mynet.b)"
   ]
  }
 ],
 "metadata": {
  "kernelspec": {
   "display_name": "Python 3 (ipykernel)",
   "language": "python",
   "name": "python3"
  },
  "language_info": {
   "codemirror_mode": {
    "name": "ipython",
    "version": 3
   },
   "file_extension": ".py",
   "mimetype": "text/x-python",
   "name": "python",
   "nbconvert_exporter": "python",
   "pygments_lexer": "ipython3",
   "version": "3.11.5"
  }
 },
 "nbformat": 4,
 "nbformat_minor": 5
}
