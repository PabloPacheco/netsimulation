{
 "cells": [
  {
   "cell_type": "markdown",
   "id": "6167bfd1-9755-463d-8ba2-0fcf625881cf",
   "metadata": {},
   "source": [
    "# Examples\n",
    "\n",
    "## Example 2\n",
    "\n",
    "The figure shows a similar example to the previous one. Extracted from:\n",
    "\n",
    "- Brebbia, C. A., & Ferrante, A. J. (2013). Computational hydraulics. Butterworth-Heinemann.\n",
    "- Example figure 4.20.\n",
    "\n",
    "\n",
    "<img src = \"images/example4_20.svg\" width = \"500\">\n",
    "\n",
    "- $c_2 = -0.2m^3 s^{-1}$\n",
    "- $c_3 = -0.5m^3 s^{-1}$\n",
    "- $c_4 = -0.25m^3 s^{-1}$\n",
    "- $H_1 = 100 \\, m$\n",
    "- node $(x,y)$\n",
    "- element | Diameter [m]\n",
    "\n",
    "The example is implemented in the same way as the previous case, but this time there is a difference. Using the attribute of the class `cxy`, a matrix of node coordinates is provided, where each row corresponds to each node, the first column is the `x` coordinate and the second is the `y` coordinate. Then, the attribute of the class `calculate_length_coordinates` is used to calculate the length of each line, resulting in the attribute of the class `length`.\n"
   ]
  },
  {
   "cell_type": "code",
   "execution_count": null,
   "id": "42c2f835-d887-4b45-b529-1abe0fca1262",
   "metadata": {},
   "outputs": [],
   "source": [
    "import numpy as np\n",
    "import netsimulation as ns"
   ]
  },
  {
   "cell_type": "code",
   "execution_count": 9,
   "id": "f51df96b-0eda-4547-837c-be9b6dd9635b",
   "metadata": {
    "tags": []
   },
   "outputs": [
    {
     "name": "stdout",
     "output_type": "stream",
     "text": [
      "[100.          94.5936561   87.45914331  87.58987456  87.23738795]\n",
      "[ 0.95  0.   -0.2  -0.5  -0.25]\n",
      "[0.95       0.57299554 0.08515898 0.29184548 0.07299554 0.09184548]\n",
      "[5.4063439  7.00378154 7.35626814 7.13451279 0.3524866  0.22175535]\n"
     ]
    }
   ],
   "source": [
    "mynet = ns.NetSimulation()\n",
    "mynet.n_elements = 6\n",
    "mynet.n_nodes = 5\n",
    "\n",
    "mynet.cxy = np.array([[0, 0],\n",
    "                       [500, 500],\n",
    "                       [1100, 500],\n",
    "                       [500.01, 200],\n",
    "                       [1100.01, 200]])\n",
    "\n",
    "mynet.connectivity = np.array([[0, 1],\n",
    "                             [1, 3],\n",
    "                             [1, 4],\n",
    "                             [1, 2],\n",
    "                             [3, 4],\n",
    "                             [2, 4]])\n",
    "\n",
    "\n",
    "mynet.calculate_length_coordinates()\n",
    "\n",
    "mynet.nodes_x_known = np.array([0])\n",
    "mynet.values_x_known = np.array([100.])\n",
    "mynet.nodes_b_known = np.array([2, 4, 3])\n",
    "mynet.values_b_known = np.array([-0.2, -0.25, -0.5])\n",
    "\n",
    "diam = np.array([0.15, 0.1, 0.075, 0.1, 0.15, 0.15])\n",
    "g = 9.81\n",
    "cte = 10000000.\n",
    "\n",
    "mynet.k_element = np.pi * cte * diam[:]**4 / (128. * mynet.length[:])\n",
    "mynet.matrix_assembly()\n",
    "mynet.solve()\n",
    "\n",
    "print(mynet.x)\n",
    "print(mynet.b)\n",
    "print(mynet.Q)\n",
    "print(mynet.dx)"
   ]
  }
 ],
 "metadata": {
  "kernelspec": {
   "display_name": "Python 3 (ipykernel)",
   "language": "python",
   "name": "python3"
  },
  "language_info": {
   "codemirror_mode": {
    "name": "ipython",
    "version": 3
   },
   "file_extension": ".py",
   "mimetype": "text/x-python",
   "name": "python",
   "nbconvert_exporter": "python",
   "pygments_lexer": "ipython3",
   "version": "3.11.5"
  }
 },
 "nbformat": 4,
 "nbformat_minor": 5
}
