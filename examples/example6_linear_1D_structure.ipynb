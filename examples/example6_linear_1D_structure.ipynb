{
 "cells": [
  {
   "cell_type": "markdown",
   "id": "23f17fa9-305b-46ef-8b2b-09f662ad91e7",
   "metadata": {},
   "source": [
    "# Examples\n",
    "\n",
    "## Example 6\n",
    "\n",
    "Extracted from:\n",
    "\n",
    "- Fish, J., & Belytschko, T. (2007). A first course in finite elements (Vol. 1). New York: Wiley.\n",
    "- Example 2.2.\n",
    "\n",
    "<img src=\"images/barra4.svg\" width=\"500\">\n",
    "\n",
    "- $k = 1$\n",
    "- $u_0 = 0$\n",
    "- $u_1 = 10$"
   ]
  },
  {
   "cell_type": "code",
   "execution_count": null,
   "id": "68659352-dd51-41eb-8492-7e8e150a1aba",
   "metadata": {},
   "outputs": [],
   "source": [
    "import numpy as np\n",
    "import netsimulation as ns"
   ]
  },
  {
   "cell_type": "code",
   "execution_count": 21,
   "id": "c26f3b2d-a610-45d2-8a94-711fd37eff3b",
   "metadata": {
    "tags": []
   },
   "outputs": [],
   "source": [
    "mynet = ns.NetSimulation()\n",
    "mynet.n_elements = 5\n",
    "mynet.n_nodes = 4\n",
    "\n",
    "mynet.connectivity = np.array([[0, 3], \n",
    "                             [3, 1],\n",
    "                             [0, 2],\n",
    "                             [3, 2],\n",
    "                             [2, 1]])\n",
    "\n",
    "mynet.nodes_x_known = np.array([0, 1])\n",
    "mynet.values_x_known = np.array([0., 10.])\n",
    "mynet.nodes_b_known = np.array([2, 3])\n",
    "mynet.values_b_known = np.array([0., 0.])\n",
    "\n",
    "mynet.k_element = np.ones(mynet.n_elements, dtype = float) * 1.\n",
    "\n",
    "mynet.matrix_assembly()\n",
    "mynet.solve()"
   ]
  },
  {
   "cell_type": "code",
   "execution_count": 22,
   "id": "a107cae4-267d-4ede-a13d-36ab2e40d0b4",
   "metadata": {
    "tags": []
   },
   "outputs": [
    {
     "data": {
      "text/plain": [
       "array([ 0., 10.,  5.,  5.])"
      ]
     },
     "execution_count": 22,
     "metadata": {},
     "output_type": "execute_result"
    }
   ],
   "source": [
    "mynet.x"
   ]
  },
  {
   "cell_type": "code",
   "execution_count": 23,
   "id": "1d45f60f-61a8-4bca-828b-47f5d9b5fdeb",
   "metadata": {
    "tags": []
   },
   "outputs": [
    {
     "data": {
      "text/plain": [
       "array([-10.,  10.,   0.,   0.])"
      ]
     },
     "execution_count": 23,
     "metadata": {},
     "output_type": "execute_result"
    }
   ],
   "source": [
    "mynet.b"
   ]
  }
 ],
 "metadata": {
  "kernelspec": {
   "display_name": "Python 3 (ipykernel)",
   "language": "python",
   "name": "python3"
  },
  "language_info": {
   "codemirror_mode": {
    "name": "ipython",
    "version": 3
   },
   "file_extension": ".py",
   "mimetype": "text/x-python",
   "name": "python",
   "nbconvert_exporter": "python",
   "pygments_lexer": "ipython3",
   "version": "3.11.5"
  }
 },
 "nbformat": 4,
 "nbformat_minor": 5
}
