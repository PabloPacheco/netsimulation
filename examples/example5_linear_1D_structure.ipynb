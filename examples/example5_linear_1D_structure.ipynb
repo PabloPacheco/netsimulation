{
 "cells": [
  {
   "cell_type": "markdown",
   "id": "2fca7a5c-4d6c-4e68-9e05-6630c3c7b815",
   "metadata": {},
   "source": [
    "# Examples\n",
    "\n",
    "## Example 5\n",
    "\n",
    "Extracted from:\n",
    "\n",
    "- Moaveni, S. (2011). Finite element analysis theory and application with ANSYS, 3/e. Pearson Education India.\n",
    "- Example 1.4.\n",
    "\n",
    "\n",
    "<img src=\"images/barra2.svg\" width=\"400\">\n",
    "\n",
    "- Espesor $t = 1/16 \\, in$\n",
    "- $E = 29 \\times 10^{6} \\, lb/in^2$\n",
    "- $a = 1 in$\n",
    "- $b = 4in$\n",
    "- $c = 2in$\n",
    "- $d = 2in$\n",
    "- $e = 1in$\n",
    "- $P = 800 lb$"
   ]
  },
  {
   "cell_type": "code",
   "execution_count": null,
   "id": "e3b5fdfd-7f1e-4a5b-a4d6-35e6da62b0cf",
   "metadata": {},
   "outputs": [],
   "source": [
    "import numpy as np\n",
    "import netsimulation as ns"
   ]
  },
  {
   "cell_type": "code",
   "execution_count": 18,
   "id": "77cc84b4-be99-4064-8318-6fa7e0a68713",
   "metadata": {
    "tags": []
   },
   "outputs": [],
   "source": [
    "mynet = ns.NetSimulation()\n",
    "mynet.n_elements = 4\n",
    "mynet.n_nodes = 4\n",
    "\n",
    "mynet.connectivity = np.array([[0, 1], \n",
    "                             [1, 2],\n",
    "                             [1, 2],\n",
    "                             [2, 3]])\n",
    "\n",
    "mynet.nodes_x_known = np.array([0])\n",
    "mynet.values_x_known = np.array([0.])\n",
    "mynet.nodes_b_known = np.array([3])\n",
    "mynet.values_b_known = np.array([800.])\n",
    "\n",
    "a = 1.\n",
    "b = 4.\n",
    "c = 2.\n",
    "d = 2.\n",
    "e = 1.\n",
    "EE = 29e6\n",
    "t = 1. / 16.\n",
    "\n",
    "A0 = (2. * d + e) * t\n",
    "A1 = d * t\n",
    "A2 = d * t\n",
    "A3 = A0\n",
    "\n",
    "A = np.array([A0, A1, A2, A3])\n",
    "l = np.array([a, b, b, c])\n",
    "E = np.ones(mynet.n_elements) * EE\n",
    "\n",
    "mynet.k_element = A[:] * E[:] / l[:]\n",
    "\n",
    "mynet.matrix_assembly()\n",
    "mynet.solve()"
   ]
  },
  {
   "cell_type": "code",
   "execution_count": 19,
   "id": "ce5aabf7-978f-480e-aebe-0a8d1fb77760",
   "metadata": {
    "tags": []
   },
   "outputs": [
    {
     "data": {
      "text/plain": [
       "array([0.00000000e+00, 8.82758621e-05, 5.29655172e-04, 7.06206897e-04])"
      ]
     },
     "execution_count": 19,
     "metadata": {},
     "output_type": "execute_result"
    }
   ],
   "source": [
    "mynet.x"
   ]
  },
  {
   "cell_type": "code",
   "execution_count": 20,
   "id": "03b3bace-34c2-44b5-ac75-3011fe33acc0",
   "metadata": {
    "tags": []
   },
   "outputs": [
    {
     "data": {
      "text/plain": [
       "array([-800.,    0.,    0.,  800.])"
      ]
     },
     "execution_count": 20,
     "metadata": {},
     "output_type": "execute_result"
    }
   ],
   "source": [
    "mynet.b"
   ]
  }
 ],
 "metadata": {
  "kernelspec": {
   "display_name": "Python 3 (ipykernel)",
   "language": "python",
   "name": "python3"
  },
  "language_info": {
   "codemirror_mode": {
    "name": "ipython",
    "version": 3
   },
   "file_extension": ".py",
   "mimetype": "text/x-python",
   "name": "python",
   "nbconvert_exporter": "python",
   "pygments_lexer": "ipython3",
   "version": "3.11.5"
  }
 },
 "nbformat": 4,
 "nbformat_minor": 5
}
